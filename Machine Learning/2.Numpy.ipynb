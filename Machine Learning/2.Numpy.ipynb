{
 "cells": [
  {
   "cell_type": "code",
   "execution_count": 1,
   "id": "d574bc88",
   "metadata": {
    "ExecuteTime": {
     "end_time": "2024-01-28T17:25:31.253380Z",
     "start_time": "2024-01-28T17:25:31.245069Z"
    }
   },
   "outputs": [],
   "source": [
    "my_list = [1,2,3]"
   ]
  },
  {
   "cell_type": "code",
   "execution_count": 2,
   "id": "bce83644",
   "metadata": {
    "ExecuteTime": {
     "end_time": "2024-01-28T17:25:31.723657Z",
     "start_time": "2024-01-28T17:25:31.708881Z"
    }
   },
   "outputs": [],
   "source": [
    "import numpy as np "
   ]
  },
  {
   "cell_type": "code",
   "execution_count": 3,
   "id": "08620c7e",
   "metadata": {
    "ExecuteTime": {
     "end_time": "2024-01-28T17:25:32.136963Z",
     "start_time": "2024-01-28T17:25:32.106826Z"
    }
   },
   "outputs": [
    {
     "data": {
      "text/plain": [
       "array([1, 2, 3])"
      ]
     },
     "execution_count": 3,
     "metadata": {},
     "output_type": "execute_result"
    }
   ],
   "source": [
    "np.array(my_list)"
   ]
  },
  {
   "cell_type": "code",
   "execution_count": 4,
   "id": "71834029",
   "metadata": {
    "ExecuteTime": {
     "end_time": "2024-01-28T17:25:32.485695Z",
     "start_time": "2024-01-28T17:25:32.469785Z"
    }
   },
   "outputs": [],
   "source": [
    "arr = np.array(my_list)"
   ]
  },
  {
   "cell_type": "code",
   "execution_count": 5,
   "id": "a8b3cc87",
   "metadata": {
    "ExecuteTime": {
     "end_time": "2024-01-28T17:25:32.813434Z",
     "start_time": "2024-01-28T17:25:32.806925Z"
    }
   },
   "outputs": [
    {
     "data": {
      "text/plain": [
       "array([1, 2, 3])"
      ]
     },
     "execution_count": 5,
     "metadata": {},
     "output_type": "execute_result"
    }
   ],
   "source": [
    "arr"
   ]
  },
  {
   "cell_type": "code",
   "execution_count": 6,
   "id": "466d635d",
   "metadata": {
    "ExecuteTime": {
     "end_time": "2024-01-28T17:25:33.207189Z",
     "start_time": "2024-01-28T17:25:33.189933Z"
    }
   },
   "outputs": [],
   "source": [
    "my_mat = [[1,2,3],[4,5,6],[7,8,9]]"
   ]
  },
  {
   "cell_type": "code",
   "execution_count": 7,
   "id": "27c2f705",
   "metadata": {
    "ExecuteTime": {
     "end_time": "2024-01-28T17:25:33.604279Z",
     "start_time": "2024-01-28T17:25:33.589107Z"
    }
   },
   "outputs": [
    {
     "data": {
      "text/plain": [
       "[[1, 2, 3], [4, 5, 6], [7, 8, 9]]"
      ]
     },
     "execution_count": 7,
     "metadata": {},
     "output_type": "execute_result"
    }
   ],
   "source": [
    "my_mat"
   ]
  },
  {
   "cell_type": "code",
   "execution_count": 8,
   "id": "d00300fa",
   "metadata": {
    "ExecuteTime": {
     "end_time": "2024-01-28T17:25:34.072929Z",
     "start_time": "2024-01-28T17:25:34.055776Z"
    }
   },
   "outputs": [
    {
     "data": {
      "text/plain": [
       "array([[1, 2, 3],\n",
       "       [4, 5, 6],\n",
       "       [7, 8, 9]])"
      ]
     },
     "execution_count": 8,
     "metadata": {},
     "output_type": "execute_result"
    }
   ],
   "source": [
    "np.array(my_mat)"
   ]
  },
  {
   "cell_type": "code",
   "execution_count": 9,
   "id": "692ffb4b",
   "metadata": {
    "ExecuteTime": {
     "end_time": "2024-01-28T17:25:34.475073Z",
     "start_time": "2024-01-28T17:25:34.459919Z"
    }
   },
   "outputs": [
    {
     "data": {
      "text/plain": [
       "array([ 0,  2,  4,  6,  8, 10])"
      ]
     },
     "execution_count": 9,
     "metadata": {},
     "output_type": "execute_result"
    }
   ],
   "source": [
    "np.arange(0,11,2)"
   ]
  },
  {
   "cell_type": "code",
   "execution_count": 10,
   "id": "cd18c02a",
   "metadata": {
    "ExecuteTime": {
     "end_time": "2024-01-28T17:25:34.897369Z",
     "start_time": "2024-01-28T17:25:34.883800Z"
    }
   },
   "outputs": [
    {
     "data": {
      "text/plain": [
       "array([0., 0., 0., 0., 0.])"
      ]
     },
     "execution_count": 10,
     "metadata": {},
     "output_type": "execute_result"
    }
   ],
   "source": [
    "np.zeros(5)"
   ]
  },
  {
   "cell_type": "code",
   "execution_count": 11,
   "id": "eedfc66f",
   "metadata": {
    "ExecuteTime": {
     "end_time": "2024-01-28T17:25:35.325432Z",
     "start_time": "2024-01-28T17:25:35.313035Z"
    }
   },
   "outputs": [
    {
     "data": {
      "text/plain": [
       "array([[0., 0., 0., 0., 0.],\n",
       "       [0., 0., 0., 0., 0.],\n",
       "       [0., 0., 0., 0., 0.],\n",
       "       [0., 0., 0., 0., 0.],\n",
       "       [0., 0., 0., 0., 0.]])"
      ]
     },
     "execution_count": 11,
     "metadata": {},
     "output_type": "execute_result"
    }
   ],
   "source": [
    "np.zeros((5,5))"
   ]
  },
  {
   "cell_type": "code",
   "execution_count": 12,
   "id": "11a61d0f",
   "metadata": {
    "ExecuteTime": {
     "end_time": "2024-01-28T17:25:35.769523Z",
     "start_time": "2024-01-28T17:25:35.761314Z"
    }
   },
   "outputs": [
    {
     "data": {
      "text/plain": [
       "array([1., 1.])"
      ]
     },
     "execution_count": 12,
     "metadata": {},
     "output_type": "execute_result"
    }
   ],
   "source": [
    "np.ones(2)"
   ]
  },
  {
   "cell_type": "code",
   "execution_count": 13,
   "id": "ac6421ab",
   "metadata": {
    "ExecuteTime": {
     "end_time": "2024-01-28T17:25:36.266769Z",
     "start_time": "2024-01-28T17:25:36.250330Z"
    }
   },
   "outputs": [
    {
     "data": {
      "text/plain": [
       "array([[1., 1., 1.],\n",
       "       [1., 1., 1.]])"
      ]
     },
     "execution_count": 13,
     "metadata": {},
     "output_type": "execute_result"
    }
   ],
   "source": [
    "np.ones((2,3))"
   ]
  },
  {
   "cell_type": "code",
   "execution_count": 14,
   "id": "9129bbbb",
   "metadata": {
    "ExecuteTime": {
     "end_time": "2024-01-28T17:25:36.672976Z",
     "start_time": "2024-01-28T17:25:36.658335Z"
    }
   },
   "outputs": [
    {
     "data": {
      "text/plain": [
       "array([0.        , 0.55555556, 1.11111111, 1.66666667, 2.22222222,\n",
       "       2.77777778, 3.33333333, 3.88888889, 4.44444444, 5.        ])"
      ]
     },
     "execution_count": 14,
     "metadata": {},
     "output_type": "execute_result"
    }
   ],
   "source": [
    "np.linspace(0,5,10)"
   ]
  },
  {
   "cell_type": "code",
   "execution_count": 15,
   "id": "73ecd608",
   "metadata": {
    "ExecuteTime": {
     "end_time": "2024-01-28T17:25:37.101448Z",
     "start_time": "2024-01-28T17:25:37.087231Z"
    }
   },
   "outputs": [
    {
     "data": {
      "text/plain": [
       "array([[1., 0., 0., 0.],\n",
       "       [0., 1., 0., 0.],\n",
       "       [0., 0., 1., 0.],\n",
       "       [0., 0., 0., 1.]])"
      ]
     },
     "execution_count": 15,
     "metadata": {},
     "output_type": "execute_result"
    }
   ],
   "source": [
    "np.eye(4)"
   ]
  },
  {
   "cell_type": "code",
   "execution_count": 16,
   "id": "5983289e",
   "metadata": {
    "ExecuteTime": {
     "end_time": "2024-01-28T17:25:37.598204Z",
     "start_time": "2024-01-28T17:25:37.563163Z"
    }
   },
   "outputs": [
    {
     "data": {
      "text/plain": [
       "array([0.77146252, 0.40785742, 0.79369404, 0.29082321, 0.20792426])"
      ]
     },
     "execution_count": 16,
     "metadata": {},
     "output_type": "execute_result"
    }
   ],
   "source": [
    "np.random.rand(5)"
   ]
  },
  {
   "cell_type": "code",
   "execution_count": 17,
   "id": "2bcc3aa0",
   "metadata": {
    "ExecuteTime": {
     "end_time": "2024-01-28T17:25:38.279105Z",
     "start_time": "2024-01-28T17:25:38.267710Z"
    }
   },
   "outputs": [
    {
     "data": {
      "text/plain": [
       "array([[0.35879093, 0.19750223, 0.62758734, 0.41885712, 0.97640774],\n",
       "       [0.35567176, 0.77137818, 0.18186229, 0.6984688 , 0.91307057],\n",
       "       [0.33344205, 0.94429503, 0.89398246, 0.1254956 , 0.45242426],\n",
       "       [0.50343897, 0.73852909, 0.09896767, 0.99034377, 0.05112889],\n",
       "       [0.08682755, 0.83787854, 0.85910161, 0.44809843, 0.92977662]])"
      ]
     },
     "execution_count": 17,
     "metadata": {},
     "output_type": "execute_result"
    }
   ],
   "source": [
    "np.random.rand(5,5)"
   ]
  },
  {
   "cell_type": "code",
   "execution_count": 18,
   "id": "46e3f1d9",
   "metadata": {
    "ExecuteTime": {
     "end_time": "2024-01-28T17:25:38.768919Z",
     "start_time": "2024-01-28T17:25:38.719710Z"
    }
   },
   "outputs": [
    {
     "data": {
      "text/plain": [
       "array([[ 0.66022818,  0.28633959, -0.83983021,  0.03312942],\n",
       "       [-0.17362999,  0.49149706, -1.27226189,  0.28293238],\n",
       "       [-1.06527943,  1.21440545, -0.90900202,  1.03488627],\n",
       "       [ 1.55649633,  0.68950695,  1.58544403,  0.83233977]])"
      ]
     },
     "execution_count": 18,
     "metadata": {},
     "output_type": "execute_result"
    }
   ],
   "source": [
    "np.random.randn(4,4)"
   ]
  },
  {
   "cell_type": "code",
   "execution_count": 19,
   "id": "750ffae0",
   "metadata": {
    "ExecuteTime": {
     "end_time": "2024-01-28T17:25:39.131168Z",
     "start_time": "2024-01-28T17:25:39.114628Z"
    }
   },
   "outputs": [
    {
     "data": {
      "text/plain": [
       "87"
      ]
     },
     "execution_count": 19,
     "metadata": {},
     "output_type": "execute_result"
    }
   ],
   "source": [
    "np.random.randint(1,100)"
   ]
  },
  {
   "cell_type": "code",
   "execution_count": 20,
   "id": "e39798b5",
   "metadata": {
    "ExecuteTime": {
     "end_time": "2024-01-28T17:25:39.571511Z",
     "start_time": "2024-01-28T17:25:39.559914Z"
    }
   },
   "outputs": [
    {
     "data": {
      "text/plain": [
       "array([66, 95, 56, 87, 46, 60, 13, 55, 92, 83])"
      ]
     },
     "execution_count": 20,
     "metadata": {},
     "output_type": "execute_result"
    }
   ],
   "source": [
    "np.random.randint(1,100,10)"
   ]
  },
  {
   "cell_type": "code",
   "execution_count": 21,
   "id": "6d8837fe",
   "metadata": {
    "ExecuteTime": {
     "end_time": "2024-01-28T17:25:39.941307Z",
     "start_time": "2024-01-28T17:25:39.933293Z"
    }
   },
   "outputs": [],
   "source": [
    "arr = np.arange(25)"
   ]
  },
  {
   "cell_type": "code",
   "execution_count": 22,
   "id": "64c73a70",
   "metadata": {
    "ExecuteTime": {
     "end_time": "2024-01-28T17:25:40.322550Z",
     "start_time": "2024-01-28T17:25:40.310374Z"
    }
   },
   "outputs": [
    {
     "data": {
      "text/plain": [
       "array([ 0,  1,  2,  3,  4,  5,  6,  7,  8,  9, 10, 11, 12, 13, 14, 15, 16,\n",
       "       17, 18, 19, 20, 21, 22, 23, 24])"
      ]
     },
     "execution_count": 22,
     "metadata": {},
     "output_type": "execute_result"
    }
   ],
   "source": [
    "arr"
   ]
  },
  {
   "cell_type": "code",
   "execution_count": 23,
   "id": "27053903",
   "metadata": {
    "ExecuteTime": {
     "end_time": "2024-01-28T17:25:40.719093Z",
     "start_time": "2024-01-28T17:25:40.694757Z"
    }
   },
   "outputs": [],
   "source": [
    "ranrr = np.random.randint(0,100,10)"
   ]
  },
  {
   "cell_type": "code",
   "execution_count": 24,
   "id": "f95454c5",
   "metadata": {
    "ExecuteTime": {
     "end_time": "2024-01-28T17:25:41.098733Z",
     "start_time": "2024-01-28T17:25:41.084198Z"
    }
   },
   "outputs": [
    {
     "data": {
      "text/plain": [
       "array([73, 58, 91, 57, 64, 32, 45, 62, 36, 98])"
      ]
     },
     "execution_count": 24,
     "metadata": {},
     "output_type": "execute_result"
    }
   ],
   "source": [
    "ranrr"
   ]
  },
  {
   "cell_type": "code",
   "execution_count": 25,
   "id": "714e6ca8",
   "metadata": {
    "ExecuteTime": {
     "end_time": "2024-01-28T17:25:41.487745Z",
     "start_time": "2024-01-28T17:25:41.467719Z"
    }
   },
   "outputs": [
    {
     "data": {
      "text/plain": [
       "array([[ 0,  1,  2,  3,  4],\n",
       "       [ 5,  6,  7,  8,  9],\n",
       "       [10, 11, 12, 13, 14],\n",
       "       [15, 16, 17, 18, 19],\n",
       "       [20, 21, 22, 23, 24]])"
      ]
     },
     "execution_count": 25,
     "metadata": {},
     "output_type": "execute_result"
    }
   ],
   "source": [
    "arr.reshape(5,5)"
   ]
  },
  {
   "cell_type": "code",
   "execution_count": 26,
   "id": "76ab8917",
   "metadata": {
    "ExecuteTime": {
     "end_time": "2024-01-28T17:25:41.821952Z",
     "start_time": "2024-01-28T17:25:41.816415Z"
    }
   },
   "outputs": [
    {
     "data": {
      "text/plain": [
       "array([73, 58, 91, 57, 64, 32, 45, 62, 36, 98])"
      ]
     },
     "execution_count": 26,
     "metadata": {},
     "output_type": "execute_result"
    }
   ],
   "source": [
    "ranrr"
   ]
  },
  {
   "cell_type": "code",
   "execution_count": 27,
   "id": "a0348d08",
   "metadata": {
    "ExecuteTime": {
     "end_time": "2024-01-28T17:25:42.200885Z",
     "start_time": "2024-01-28T17:25:42.182508Z"
    }
   },
   "outputs": [
    {
     "data": {
      "text/plain": [
       "98"
      ]
     },
     "execution_count": 27,
     "metadata": {},
     "output_type": "execute_result"
    }
   ],
   "source": [
    "ranrr.max()"
   ]
  },
  {
   "cell_type": "code",
   "execution_count": 28,
   "id": "bcae1ec3",
   "metadata": {
    "ExecuteTime": {
     "end_time": "2024-01-28T17:25:42.539690Z",
     "start_time": "2024-01-28T17:25:42.524258Z"
    }
   },
   "outputs": [
    {
     "data": {
      "text/plain": [
       "32"
      ]
     },
     "execution_count": 28,
     "metadata": {},
     "output_type": "execute_result"
    }
   ],
   "source": [
    "ranrr.min()"
   ]
  },
  {
   "cell_type": "code",
   "execution_count": 29,
   "id": "f868e983",
   "metadata": {
    "ExecuteTime": {
     "end_time": "2024-01-28T17:25:42.854868Z",
     "start_time": "2024-01-28T17:25:42.847913Z"
    }
   },
   "outputs": [],
   "source": [
    "ran = ranrr.reshape(5,2)"
   ]
  },
  {
   "cell_type": "code",
   "execution_count": 30,
   "id": "64bd5078",
   "metadata": {
    "ExecuteTime": {
     "end_time": "2024-01-28T17:25:43.143131Z",
     "start_time": "2024-01-28T17:25:43.126803Z"
    }
   },
   "outputs": [
    {
     "data": {
      "text/plain": [
       "array([[73, 58],\n",
       "       [91, 57],\n",
       "       [64, 32],\n",
       "       [45, 62],\n",
       "       [36, 98]])"
      ]
     },
     "execution_count": 30,
     "metadata": {},
     "output_type": "execute_result"
    }
   ],
   "source": [
    "ran"
   ]
  },
  {
   "cell_type": "code",
   "execution_count": 31,
   "id": "22e3a8a0",
   "metadata": {
    "ExecuteTime": {
     "end_time": "2024-01-28T17:25:43.464581Z",
     "start_time": "2024-01-28T17:25:43.448065Z"
    }
   },
   "outputs": [
    {
     "data": {
      "text/plain": [
       "9"
      ]
     },
     "execution_count": 31,
     "metadata": {},
     "output_type": "execute_result"
    }
   ],
   "source": [
    "ranrr.argmax()"
   ]
  },
  {
   "cell_type": "code",
   "execution_count": 32,
   "id": "53ec7f48",
   "metadata": {
    "ExecuteTime": {
     "end_time": "2024-01-28T17:25:43.743773Z",
     "start_time": "2024-01-28T17:25:43.727514Z"
    }
   },
   "outputs": [
    {
     "data": {
      "text/plain": [
       "5"
      ]
     },
     "execution_count": 32,
     "metadata": {},
     "output_type": "execute_result"
    }
   ],
   "source": [
    "ranrr.argmin()"
   ]
  },
  {
   "cell_type": "code",
   "execution_count": 33,
   "id": "e7e3570e",
   "metadata": {
    "ExecuteTime": {
     "end_time": "2024-01-28T17:25:44.049361Z",
     "start_time": "2024-01-28T17:25:44.040549Z"
    }
   },
   "outputs": [
    {
     "data": {
      "text/plain": [
       "(25,)"
      ]
     },
     "execution_count": 33,
     "metadata": {},
     "output_type": "execute_result"
    }
   ],
   "source": [
    "arr.shape"
   ]
  },
  {
   "cell_type": "code",
   "execution_count": 34,
   "id": "615c6a8d",
   "metadata": {
    "ExecuteTime": {
     "end_time": "2024-01-28T17:25:44.395890Z",
     "start_time": "2024-01-28T17:25:44.388777Z"
    }
   },
   "outputs": [],
   "source": [
    "arr = arr.reshape(5,5)"
   ]
  },
  {
   "cell_type": "code",
   "execution_count": 35,
   "id": "3afba436",
   "metadata": {
    "ExecuteTime": {
     "end_time": "2024-01-28T17:25:44.726538Z",
     "start_time": "2024-01-28T17:25:44.718576Z"
    }
   },
   "outputs": [
    {
     "data": {
      "text/plain": [
       "array([[ 0,  1,  2,  3,  4],\n",
       "       [ 5,  6,  7,  8,  9],\n",
       "       [10, 11, 12, 13, 14],\n",
       "       [15, 16, 17, 18, 19],\n",
       "       [20, 21, 22, 23, 24]])"
      ]
     },
     "execution_count": 35,
     "metadata": {},
     "output_type": "execute_result"
    }
   ],
   "source": [
    "arr"
   ]
  },
  {
   "cell_type": "code",
   "execution_count": 36,
   "id": "b193663a",
   "metadata": {
    "ExecuteTime": {
     "end_time": "2024-01-28T17:25:45.048542Z",
     "start_time": "2024-01-28T17:25:45.025654Z"
    }
   },
   "outputs": [
    {
     "data": {
      "text/plain": [
       "(5, 5)"
      ]
     },
     "execution_count": 36,
     "metadata": {},
     "output_type": "execute_result"
    }
   ],
   "source": [
    "arr.shape"
   ]
  },
  {
   "cell_type": "code",
   "execution_count": 37,
   "id": "c35f495b",
   "metadata": {
    "ExecuteTime": {
     "end_time": "2024-01-28T17:25:45.375548Z",
     "start_time": "2024-01-28T17:25:45.359129Z"
    }
   },
   "outputs": [
    {
     "data": {
      "text/plain": [
       "(5, 2)"
      ]
     },
     "execution_count": 37,
     "metadata": {},
     "output_type": "execute_result"
    }
   ],
   "source": [
    "ran.shape"
   ]
  },
  {
   "cell_type": "code",
   "execution_count": 38,
   "id": "5dc7ba3e",
   "metadata": {
    "ExecuteTime": {
     "end_time": "2024-01-28T17:25:45.701946Z",
     "start_time": "2024-01-28T17:25:45.677943Z"
    }
   },
   "outputs": [],
   "source": [
    "from numpy.random import randint"
   ]
  },
  {
   "cell_type": "code",
   "execution_count": 39,
   "id": "2485ab06",
   "metadata": {
    "ExecuteTime": {
     "end_time": "2024-01-28T17:25:46.006166Z",
     "start_time": "2024-01-28T17:25:45.994761Z"
    }
   },
   "outputs": [
    {
     "data": {
      "text/plain": [
       "4"
      ]
     },
     "execution_count": 39,
     "metadata": {},
     "output_type": "execute_result"
    }
   ],
   "source": [
    "randint(2,10)"
   ]
  },
  {
   "cell_type": "markdown",
   "id": "1698ab03",
   "metadata": {},
   "source": [
    "#### Numpy Indexing and Selection"
   ]
  },
  {
   "cell_type": "markdown",
   "id": "25f4f1b6",
   "metadata": {},
   "source": [
    "##### 1) Indexing"
   ]
  },
  {
   "cell_type": "code",
   "execution_count": 40,
   "id": "ed255b5f",
   "metadata": {
    "ExecuteTime": {
     "end_time": "2024-01-28T17:25:46.949349Z",
     "start_time": "2024-01-28T17:25:46.933829Z"
    }
   },
   "outputs": [],
   "source": [
    "import numpy as np"
   ]
  },
  {
   "cell_type": "code",
   "execution_count": 41,
   "id": "6cc2de99",
   "metadata": {
    "ExecuteTime": {
     "end_time": "2024-01-28T17:25:47.285822Z",
     "start_time": "2024-01-28T17:25:47.273523Z"
    }
   },
   "outputs": [],
   "source": [
    "arr = np.arange(0,11)"
   ]
  },
  {
   "cell_type": "code",
   "execution_count": 42,
   "id": "98b6ea7c",
   "metadata": {
    "ExecuteTime": {
     "end_time": "2024-01-28T17:25:47.586165Z",
     "start_time": "2024-01-28T17:25:47.561471Z"
    }
   },
   "outputs": [
    {
     "data": {
      "text/plain": [
       "array([ 0,  1,  2,  3,  4,  5,  6,  7,  8,  9, 10])"
      ]
     },
     "execution_count": 42,
     "metadata": {},
     "output_type": "execute_result"
    }
   ],
   "source": [
    "arr"
   ]
  },
  {
   "cell_type": "code",
   "execution_count": 43,
   "id": "cd1a62dd",
   "metadata": {
    "ExecuteTime": {
     "end_time": "2024-01-28T17:25:47.841518Z",
     "start_time": "2024-01-28T17:25:47.824852Z"
    }
   },
   "outputs": [
    {
     "data": {
      "text/plain": [
       "8"
      ]
     },
     "execution_count": 43,
     "metadata": {},
     "output_type": "execute_result"
    }
   ],
   "source": [
    "arr[8]"
   ]
  },
  {
   "cell_type": "code",
   "execution_count": 44,
   "id": "4ac67734",
   "metadata": {
    "ExecuteTime": {
     "end_time": "2024-01-28T17:25:48.112473Z",
     "start_time": "2024-01-28T17:25:48.095875Z"
    }
   },
   "outputs": [
    {
     "data": {
      "text/plain": [
       "array([1, 2, 3, 4])"
      ]
     },
     "execution_count": 44,
     "metadata": {},
     "output_type": "execute_result"
    }
   ],
   "source": [
    "arr[1:5]"
   ]
  },
  {
   "cell_type": "code",
   "execution_count": 45,
   "id": "a452e026",
   "metadata": {
    "ExecuteTime": {
     "end_time": "2024-01-28T17:25:48.357599Z",
     "start_time": "2024-01-28T17:25:48.351407Z"
    }
   },
   "outputs": [
    {
     "data": {
      "text/plain": [
       "array([0, 1, 2, 3, 4])"
      ]
     },
     "execution_count": 45,
     "metadata": {},
     "output_type": "execute_result"
    }
   ],
   "source": [
    "arr[0:5]"
   ]
  },
  {
   "cell_type": "code",
   "execution_count": 46,
   "id": "83abf898",
   "metadata": {
    "ExecuteTime": {
     "end_time": "2024-01-28T17:25:48.634858Z",
     "start_time": "2024-01-28T17:25:48.626129Z"
    }
   },
   "outputs": [
    {
     "data": {
      "text/plain": [
       "array([0, 1, 2, 3, 4, 5])"
      ]
     },
     "execution_count": 46,
     "metadata": {},
     "output_type": "execute_result"
    }
   ],
   "source": [
    "arr[:6]"
   ]
  },
  {
   "cell_type": "code",
   "execution_count": 47,
   "id": "3e5c0a79",
   "metadata": {
    "ExecuteTime": {
     "end_time": "2024-01-28T17:25:48.857313Z",
     "start_time": "2024-01-28T17:25:48.833847Z"
    }
   },
   "outputs": [
    {
     "data": {
      "text/plain": [
       "array([ 5,  6,  7,  8,  9, 10])"
      ]
     },
     "execution_count": 47,
     "metadata": {},
     "output_type": "execute_result"
    }
   ],
   "source": [
    "arr[5:]"
   ]
  },
  {
   "cell_type": "code",
   "execution_count": 48,
   "id": "26d06c1e",
   "metadata": {
    "ExecuteTime": {
     "end_time": "2024-01-28T17:25:49.107518Z",
     "start_time": "2024-01-28T17:25:49.095125Z"
    }
   },
   "outputs": [],
   "source": [
    "import numpy as np"
   ]
  },
  {
   "cell_type": "code",
   "execution_count": 49,
   "id": "737299ee",
   "metadata": {
    "ExecuteTime": {
     "end_time": "2024-01-28T17:25:49.355739Z",
     "start_time": "2024-01-28T17:25:49.348918Z"
    }
   },
   "outputs": [],
   "source": [
    "arr_2d = np.array([[5,25,10],[3,9,6],[10,100,60]])"
   ]
  },
  {
   "cell_type": "code",
   "execution_count": 50,
   "id": "350818e5",
   "metadata": {
    "ExecuteTime": {
     "end_time": "2024-01-28T17:25:49.609955Z",
     "start_time": "2024-01-28T17:25:49.589525Z"
    }
   },
   "outputs": [
    {
     "data": {
      "text/plain": [
       "array([[  5,  25,  10],\n",
       "       [  3,   9,   6],\n",
       "       [ 10, 100,  60]])"
      ]
     },
     "execution_count": 50,
     "metadata": {},
     "output_type": "execute_result"
    }
   ],
   "source": [
    "arr_2d"
   ]
  },
  {
   "cell_type": "code",
   "execution_count": 51,
   "id": "27dfff3e",
   "metadata": {
    "ExecuteTime": {
     "end_time": "2024-01-28T17:25:49.825567Z",
     "start_time": "2024-01-28T17:25:49.810884Z"
    }
   },
   "outputs": [
    {
     "data": {
      "text/plain": [
       "array([ 5, 25, 10])"
      ]
     },
     "execution_count": 51,
     "metadata": {},
     "output_type": "execute_result"
    }
   ],
   "source": [
    "arr_2d[0]"
   ]
  },
  {
   "cell_type": "code",
   "execution_count": 52,
   "id": "2a52a87a",
   "metadata": {
    "ExecuteTime": {
     "end_time": "2024-01-28T17:25:50.052961Z",
     "start_time": "2024-01-28T17:25:50.035738Z"
    }
   },
   "outputs": [
    {
     "data": {
      "text/plain": [
       "5"
      ]
     },
     "execution_count": 52,
     "metadata": {},
     "output_type": "execute_result"
    }
   ],
   "source": [
    "arr_2d[0][0]"
   ]
  },
  {
   "cell_type": "code",
   "execution_count": 53,
   "id": "6f1964c1",
   "metadata": {
    "ExecuteTime": {
     "end_time": "2024-01-28T17:25:50.315712Z",
     "start_time": "2024-01-28T17:25:50.300309Z"
    }
   },
   "outputs": [
    {
     "data": {
      "text/plain": [
       "25"
      ]
     },
     "execution_count": 53,
     "metadata": {},
     "output_type": "execute_result"
    }
   ],
   "source": [
    "arr_2d[0][1]"
   ]
  },
  {
   "cell_type": "code",
   "execution_count": 54,
   "id": "3b6282ce",
   "metadata": {
    "ExecuteTime": {
     "end_time": "2024-01-28T17:25:50.578031Z",
     "start_time": "2024-01-28T17:25:50.557775Z"
    }
   },
   "outputs": [
    {
     "data": {
      "text/plain": [
       "100"
      ]
     },
     "execution_count": 54,
     "metadata": {},
     "output_type": "execute_result"
    }
   ],
   "source": [
    "arr_2d[2,1]"
   ]
  },
  {
   "cell_type": "code",
   "execution_count": 55,
   "id": "adba17e2",
   "metadata": {
    "ExecuteTime": {
     "end_time": "2024-01-28T17:25:50.809570Z",
     "start_time": "2024-01-28T17:25:50.788890Z"
    }
   },
   "outputs": [
    {
     "data": {
      "text/plain": [
       "100"
      ]
     },
     "execution_count": 55,
     "metadata": {},
     "output_type": "execute_result"
    }
   ],
   "source": [
    "arr_2d[2][1]"
   ]
  },
  {
   "cell_type": "code",
   "execution_count": 56,
   "id": "f9d40215",
   "metadata": {
    "ExecuteTime": {
     "end_time": "2024-01-28T17:25:51.088953Z",
     "start_time": "2024-01-28T17:25:51.070648Z"
    }
   },
   "outputs": [
    {
     "data": {
      "text/plain": [
       "array([[  5,  25,  10],\n",
       "       [  3,   9,   6],\n",
       "       [ 10, 100,  60]])"
      ]
     },
     "execution_count": 56,
     "metadata": {},
     "output_type": "execute_result"
    }
   ],
   "source": [
    "arr_2d"
   ]
  },
  {
   "cell_type": "code",
   "execution_count": 57,
   "id": "47914baa",
   "metadata": {
    "ExecuteTime": {
     "end_time": "2024-01-28T17:25:51.284962Z",
     "start_time": "2024-01-28T17:25:51.274811Z"
    }
   },
   "outputs": [
    {
     "data": {
      "text/plain": [
       "array([[ 25,  10],\n",
       "       [100,  60]])"
      ]
     },
     "execution_count": 57,
     "metadata": {},
     "output_type": "execute_result"
    }
   ],
   "source": [
    "arr_2d[0::2,1:]"
   ]
  },
  {
   "cell_type": "code",
   "execution_count": 58,
   "id": "d43cbc1d",
   "metadata": {
    "ExecuteTime": {
     "end_time": "2024-01-28T17:25:51.548140Z",
     "start_time": "2024-01-28T17:25:51.523435Z"
    }
   },
   "outputs": [
    {
     "data": {
      "text/plain": [
       "array([[  5,  25,  10],\n",
       "       [ 10, 100,  60]])"
      ]
     },
     "execution_count": 58,
     "metadata": {},
     "output_type": "execute_result"
    }
   ],
   "source": [
    "arr_2d[0::2]"
   ]
  },
  {
   "cell_type": "markdown",
   "id": "21301705",
   "metadata": {},
   "source": [
    "##### 2)Selection"
   ]
  },
  {
   "cell_type": "code",
   "execution_count": 59,
   "id": "47598892",
   "metadata": {
    "ExecuteTime": {
     "end_time": "2024-01-28T17:25:52.021326Z",
     "start_time": "2024-01-28T17:25:51.998380Z"
    }
   },
   "outputs": [],
   "source": [
    "arr = np.arange(0,11)"
   ]
  },
  {
   "cell_type": "code",
   "execution_count": 60,
   "id": "5a994f83",
   "metadata": {
    "ExecuteTime": {
     "end_time": "2024-01-28T17:25:52.251763Z",
     "start_time": "2024-01-28T17:25:52.238296Z"
    }
   },
   "outputs": [
    {
     "data": {
      "text/plain": [
       "array([ 0,  1,  2,  3,  4,  5,  6,  7,  8,  9, 10])"
      ]
     },
     "execution_count": 60,
     "metadata": {},
     "output_type": "execute_result"
    }
   ],
   "source": [
    "arr"
   ]
  },
  {
   "cell_type": "code",
   "execution_count": 61,
   "id": "308aede0",
   "metadata": {
    "ExecuteTime": {
     "end_time": "2024-01-28T17:25:52.492832Z",
     "start_time": "2024-01-28T17:25:52.468717Z"
    }
   },
   "outputs": [],
   "source": [
    "bool_arr = arr > 5"
   ]
  },
  {
   "cell_type": "code",
   "execution_count": 62,
   "id": "039b8409",
   "metadata": {
    "ExecuteTime": {
     "end_time": "2024-01-28T17:25:52.700486Z",
     "start_time": "2024-01-28T17:25:52.691710Z"
    }
   },
   "outputs": [
    {
     "data": {
      "text/plain": [
       "array([False, False, False, False, False, False,  True,  True,  True,\n",
       "        True,  True])"
      ]
     },
     "execution_count": 62,
     "metadata": {},
     "output_type": "execute_result"
    }
   ],
   "source": [
    "bool_arr"
   ]
  },
  {
   "cell_type": "code",
   "execution_count": 63,
   "id": "8fdc80bb",
   "metadata": {
    "ExecuteTime": {
     "end_time": "2024-01-28T17:25:52.938043Z",
     "start_time": "2024-01-28T17:25:52.923136Z"
    }
   },
   "outputs": [
    {
     "data": {
      "text/plain": [
       "array([ 6,  7,  8,  9, 10])"
      ]
     },
     "execution_count": 63,
     "metadata": {},
     "output_type": "execute_result"
    }
   ],
   "source": [
    "arr[bool_arr]"
   ]
  },
  {
   "cell_type": "code",
   "execution_count": 64,
   "id": "66ae46c3",
   "metadata": {
    "ExecuteTime": {
     "end_time": "2024-01-28T17:25:53.144291Z",
     "start_time": "2024-01-28T17:25:53.127266Z"
    }
   },
   "outputs": [
    {
     "data": {
      "text/plain": [
       "array([ 6,  7,  8,  9, 10])"
      ]
     },
     "execution_count": 64,
     "metadata": {},
     "output_type": "execute_result"
    }
   ],
   "source": [
    "arr[arr>5]"
   ]
  },
  {
   "cell_type": "code",
   "execution_count": 65,
   "id": "50b3ec4a",
   "metadata": {
    "ExecuteTime": {
     "end_time": "2024-01-28T17:25:53.372874Z",
     "start_time": "2024-01-28T17:25:53.365497Z"
    }
   },
   "outputs": [
    {
     "data": {
      "text/plain": [
       "array([0, 1, 2])"
      ]
     },
     "execution_count": 65,
     "metadata": {},
     "output_type": "execute_result"
    }
   ],
   "source": [
    "arr[arr<3]"
   ]
  },
  {
   "cell_type": "markdown",
   "id": "7b60a885",
   "metadata": {},
   "source": [
    "#### Numpy Operations"
   ]
  },
  {
   "cell_type": "code",
   "execution_count": 66,
   "id": "42441191",
   "metadata": {
    "ExecuteTime": {
     "end_time": "2024-01-28T17:25:53.907319Z",
     "start_time": "2024-01-28T17:25:53.895005Z"
    }
   },
   "outputs": [],
   "source": [
    "import numpy as np"
   ]
  },
  {
   "cell_type": "code",
   "execution_count": 67,
   "id": "982a5e58",
   "metadata": {
    "ExecuteTime": {
     "end_time": "2024-01-28T17:25:54.233356Z",
     "start_time": "2024-01-28T17:25:54.218836Z"
    }
   },
   "outputs": [],
   "source": [
    "arr = np.arange(0,11)"
   ]
  },
  {
   "cell_type": "code",
   "execution_count": 68,
   "id": "73ad20ce",
   "metadata": {
    "ExecuteTime": {
     "end_time": "2024-01-28T17:25:54.506450Z",
     "start_time": "2024-01-28T17:25:54.499543Z"
    }
   },
   "outputs": [
    {
     "data": {
      "text/plain": [
       "array([ 0,  1,  2,  3,  4,  5,  6,  7,  8,  9, 10])"
      ]
     },
     "execution_count": 68,
     "metadata": {},
     "output_type": "execute_result"
    }
   ],
   "source": [
    "arr"
   ]
  },
  {
   "cell_type": "code",
   "execution_count": 69,
   "id": "4b04b76b",
   "metadata": {
    "ExecuteTime": {
     "end_time": "2024-01-28T17:25:54.802907Z",
     "start_time": "2024-01-28T17:25:54.787836Z"
    }
   },
   "outputs": [
    {
     "data": {
      "text/plain": [
       "array([ 0,  2,  4,  6,  8, 10, 12, 14, 16, 18, 20])"
      ]
     },
     "execution_count": 69,
     "metadata": {},
     "output_type": "execute_result"
    }
   ],
   "source": [
    "arr + arr"
   ]
  },
  {
   "cell_type": "code",
   "execution_count": 70,
   "id": "3abda432",
   "metadata": {
    "ExecuteTime": {
     "end_time": "2024-01-28T17:25:55.037635Z",
     "start_time": "2024-01-28T17:25:55.030522Z"
    }
   },
   "outputs": [
    {
     "data": {
      "text/plain": [
       "array([0, 0, 0, 0, 0, 0, 0, 0, 0, 0, 0])"
      ]
     },
     "execution_count": 70,
     "metadata": {},
     "output_type": "execute_result"
    }
   ],
   "source": [
    "arr - arr"
   ]
  },
  {
   "cell_type": "code",
   "execution_count": 71,
   "id": "c6138833",
   "metadata": {
    "ExecuteTime": {
     "end_time": "2024-01-28T17:25:55.313027Z",
     "start_time": "2024-01-28T17:25:55.304561Z"
    }
   },
   "outputs": [
    {
     "data": {
      "text/plain": [
       "array([  0,   1,   4,   9,  16,  25,  36,  49,  64,  81, 100])"
      ]
     },
     "execution_count": 71,
     "metadata": {},
     "output_type": "execute_result"
    }
   ],
   "source": [
    "arr * arr "
   ]
  },
  {
   "cell_type": "code",
   "execution_count": 72,
   "id": "bb61b70d",
   "metadata": {
    "ExecuteTime": {
     "end_time": "2024-01-28T17:25:55.550664Z",
     "start_time": "2024-01-28T17:25:55.539809Z"
    }
   },
   "outputs": [
    {
     "data": {
      "text/plain": [
       "array([100, 101, 102, 103, 104, 105, 106, 107, 108, 109, 110])"
      ]
     },
     "execution_count": 72,
     "metadata": {},
     "output_type": "execute_result"
    }
   ],
   "source": [
    "arr + 100"
   ]
  },
  {
   "cell_type": "markdown",
   "id": "95619fc4",
   "metadata": {
    "ExecuteTime": {
     "end_time": "2023-12-15T00:36:32.338224Z",
     "start_time": "2023-12-15T00:36:32.330215Z"
    }
   },
   "source": [
    "##### Array with Scaler"
   ]
  },
  {
   "cell_type": "code",
   "execution_count": 73,
   "id": "b52e12a0",
   "metadata": {
    "ExecuteTime": {
     "end_time": "2024-01-28T17:25:56.018050Z",
     "start_time": "2024-01-28T17:25:56.007933Z"
    }
   },
   "outputs": [
    {
     "data": {
      "text/plain": [
       "array([100, 101, 102, 103, 104, 105, 106, 107, 108, 109, 110])"
      ]
     },
     "execution_count": 73,
     "metadata": {},
     "output_type": "execute_result"
    }
   ],
   "source": [
    "arr + 100"
   ]
  },
  {
   "cell_type": "code",
   "execution_count": 74,
   "id": "d2d06bfc",
   "metadata": {
    "ExecuteTime": {
     "end_time": "2024-01-28T17:25:56.290764Z",
     "start_time": "2024-01-28T17:25:56.278358Z"
    }
   },
   "outputs": [
    {
     "data": {
      "text/plain": [
       "array([-100,  -99,  -98,  -97,  -96,  -95,  -94,  -93,  -92,  -91,  -90])"
      ]
     },
     "execution_count": 74,
     "metadata": {},
     "output_type": "execute_result"
    }
   ],
   "source": [
    "arr - 100"
   ]
  },
  {
   "cell_type": "code",
   "execution_count": 75,
   "id": "17fc118f",
   "metadata": {
    "ExecuteTime": {
     "end_time": "2024-01-28T17:25:56.552743Z",
     "start_time": "2024-01-28T17:25:56.536363Z"
    }
   },
   "outputs": [
    {
     "data": {
      "text/plain": [
       "array([   0,  100,  200,  300,  400,  500,  600,  700,  800,  900, 1000])"
      ]
     },
     "execution_count": 75,
     "metadata": {},
     "output_type": "execute_result"
    }
   ],
   "source": [
    "arr * 100"
   ]
  },
  {
   "cell_type": "code",
   "execution_count": 76,
   "id": "e0a3e447",
   "metadata": {
    "ExecuteTime": {
     "end_time": "2024-01-28T17:25:56.823950Z",
     "start_time": "2024-01-28T17:25:56.815857Z"
    }
   },
   "outputs": [
    {
     "name": "stderr",
     "output_type": "stream",
     "text": [
      "C:\\Users\\hp\\AppData\\Local\\Temp/ipykernel_14728/3001117470.py:1: RuntimeWarning: invalid value encountered in true_divide\n",
      "  arr / arr\n"
     ]
    },
    {
     "data": {
      "text/plain": [
       "array([nan,  1.,  1.,  1.,  1.,  1.,  1.,  1.,  1.,  1.,  1.])"
      ]
     },
     "execution_count": 76,
     "metadata": {},
     "output_type": "execute_result"
    }
   ],
   "source": [
    "arr / arr"
   ]
  },
  {
   "cell_type": "code",
   "execution_count": 77,
   "id": "1b5fc781",
   "metadata": {
    "ExecuteTime": {
     "end_time": "2024-01-28T17:25:57.119595Z",
     "start_time": "2024-01-28T17:25:57.107864Z"
    }
   },
   "outputs": [
    {
     "data": {
      "text/plain": [
       "array([  0,   1,   4,   9,  16,  25,  36,  49,  64,  81, 100])"
      ]
     },
     "execution_count": 77,
     "metadata": {},
     "output_type": "execute_result"
    }
   ],
   "source": [
    "arr ** 2"
   ]
  },
  {
   "cell_type": "markdown",
   "id": "0c2e9352",
   "metadata": {},
   "source": [
    "##### Universal Array function"
   ]
  },
  {
   "cell_type": "code",
   "execution_count": 78,
   "id": "51590413",
   "metadata": {
    "ExecuteTime": {
     "end_time": "2024-01-28T17:25:58.648118Z",
     "start_time": "2024-01-28T17:25:58.632022Z"
    }
   },
   "outputs": [
    {
     "data": {
      "text/plain": [
       "array([0.        , 1.        , 1.41421356, 1.73205081, 2.        ,\n",
       "       2.23606798, 2.44948974, 2.64575131, 2.82842712, 3.        ,\n",
       "       3.16227766])"
      ]
     },
     "execution_count": 78,
     "metadata": {},
     "output_type": "execute_result"
    }
   ],
   "source": [
    "np.sqrt(arr)"
   ]
  },
  {
   "cell_type": "code",
   "execution_count": 79,
   "id": "5a5a5f27",
   "metadata": {
    "ExecuteTime": {
     "end_time": "2024-01-28T17:25:59.072148Z",
     "start_time": "2024-01-28T17:25:59.050157Z"
    }
   },
   "outputs": [
    {
     "data": {
      "text/plain": [
       "array([1.00000000e+00, 2.71828183e+00, 7.38905610e+00, 2.00855369e+01,\n",
       "       5.45981500e+01, 1.48413159e+02, 4.03428793e+02, 1.09663316e+03,\n",
       "       2.98095799e+03, 8.10308393e+03, 2.20264658e+04])"
      ]
     },
     "execution_count": 79,
     "metadata": {},
     "output_type": "execute_result"
    }
   ],
   "source": [
    "np.exp(arr)"
   ]
  },
  {
   "cell_type": "code",
   "execution_count": 80,
   "id": "09f190e8",
   "metadata": {
    "ExecuteTime": {
     "end_time": "2024-01-28T17:25:59.495836Z",
     "start_time": "2024-01-28T17:25:59.479014Z"
    }
   },
   "outputs": [
    {
     "data": {
      "text/plain": [
       "10"
      ]
     },
     "execution_count": 80,
     "metadata": {},
     "output_type": "execute_result"
    }
   ],
   "source": [
    "np.max(arr)"
   ]
  },
  {
   "cell_type": "code",
   "execution_count": 81,
   "id": "4137e0d3",
   "metadata": {
    "ExecuteTime": {
     "end_time": "2024-01-28T17:25:59.863768Z",
     "start_time": "2024-01-28T17:25:59.849041Z"
    }
   },
   "outputs": [
    {
     "data": {
      "text/plain": [
       "array([ 0.        ,  0.84147098,  0.90929743,  0.14112001, -0.7568025 ,\n",
       "       -0.95892427, -0.2794155 ,  0.6569866 ,  0.98935825,  0.41211849,\n",
       "       -0.54402111])"
      ]
     },
     "execution_count": 81,
     "metadata": {},
     "output_type": "execute_result"
    }
   ],
   "source": [
    "np.sin(arr)"
   ]
  },
  {
   "cell_type": "code",
   "execution_count": 82,
   "id": "c2ab961e",
   "metadata": {
    "ExecuteTime": {
     "end_time": "2024-01-28T17:26:00.169777Z",
     "start_time": "2024-01-28T17:26:00.153569Z"
    }
   },
   "outputs": [
    {
     "name": "stderr",
     "output_type": "stream",
     "text": [
      "C:\\Users\\hp\\AppData\\Local\\Temp/ipykernel_14728/3120950136.py:1: RuntimeWarning: divide by zero encountered in log\n",
      "  np.log(arr)\n"
     ]
    },
    {
     "data": {
      "text/plain": [
       "array([      -inf, 0.        , 0.69314718, 1.09861229, 1.38629436,\n",
       "       1.60943791, 1.79175947, 1.94591015, 2.07944154, 2.19722458,\n",
       "       2.30258509])"
      ]
     },
     "execution_count": 82,
     "metadata": {},
     "output_type": "execute_result"
    }
   ],
   "source": [
    "np.log(arr)"
   ]
  },
  {
   "cell_type": "code",
   "execution_count": null,
   "id": "ba6f1a52",
   "metadata": {},
   "outputs": [],
   "source": []
  },
  {
   "cell_type": "code",
   "execution_count": null,
   "id": "d0652e2a",
   "metadata": {},
   "outputs": [],
   "source": []
  },
  {
   "cell_type": "code",
   "execution_count": null,
   "id": "1217124c",
   "metadata": {},
   "outputs": [],
   "source": []
  }
 ],
 "metadata": {
  "kernelspec": {
   "display_name": "Python 3 (ipykernel)",
   "language": "python",
   "name": "python3"
  },
  "language_info": {
   "codemirror_mode": {
    "name": "ipython",
    "version": 3
   },
   "file_extension": ".py",
   "mimetype": "text/x-python",
   "name": "python",
   "nbconvert_exporter": "python",
   "pygments_lexer": "ipython3",
   "version": "3.9.7"
  },
  "varInspector": {
   "cols": {
    "lenName": 16,
    "lenType": 16,
    "lenVar": 40
   },
   "kernels_config": {
    "python": {
     "delete_cmd_postfix": "",
     "delete_cmd_prefix": "del ",
     "library": "var_list.py",
     "varRefreshCmd": "print(var_dic_list())"
    },
    "r": {
     "delete_cmd_postfix": ") ",
     "delete_cmd_prefix": "rm(",
     "library": "var_list.r",
     "varRefreshCmd": "cat(var_dic_list()) "
    }
   },
   "types_to_exclude": [
    "module",
    "function",
    "builtin_function_or_method",
    "instance",
    "_Feature"
   ],
   "window_display": false
  }
 },
 "nbformat": 4,
 "nbformat_minor": 5
}
